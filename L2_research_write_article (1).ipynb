{
 "cells": [
  {
   "cell_type": "markdown",
   "metadata": {},
   "source": [
    "You can download the `requirements.txt` for this course from the workspace of this lab. `File --> Open...`"
   ]
  },
  {
   "cell_type": "markdown",
   "metadata": {},
   "source": [
    "# L2: Create Agents to Research and Write an Article\n",
    "\n",
    "In this lesson, you will be introduced to the foundational concepts of multi-agent systems and get an overview of the crewAI framework."
   ]
  },
  {
   "cell_type": "markdown",
   "metadata": {},
   "source": [
    "The libraries are already installed in the classroom. If you're running this notebook on your own machine, you can install the following:\n",
    "```Python\n",
    "!pip install crewai==0.28.8 crewai_tools==0.1.6 langchain_community==0.0.29\n",
    "```"
   ]
  },
  {
   "cell_type": "code",
   "execution_count": 26,
   "metadata": {
    "height": 64
   },
   "outputs": [],
   "source": [
    "# Warning control\n",
    "import warnings\n",
    "warnings.filterwarnings('ignore')"
   ]
  },
  {
   "cell_type": "markdown",
   "metadata": {},
   "source": [
    "- Import from the crewAI libray."
   ]
  },
  {
   "cell_type": "code",
   "execution_count": 1,
   "metadata": {
    "height": 30
   },
   "outputs": [],
   "source": [
    "from crewai import Agent, Task, Crew"
   ]
  },
  {
   "cell_type": "markdown",
   "metadata": {},
   "source": [
    "- As a LLM for your agents, you'll be using OpenAI's `gpt-3.5-turbo`.\n",
    "\n",
    "**Optional Note:** crewAI also allow other popular models to be used as a LLM for your Agents. You can see some of the examples at the [bottom of the notebook](#1)."
   ]
  },
  {
   "cell_type": "code",
   "execution_count": 4,
   "metadata": {
    "height": 98
   },
   "outputs": [],
   "source": [
    "import os\n",
    "from dotenv import load_dotenv\n",
    "\n",
    "\n",
    "openai_api_key = os.getenv(\"OPENAI_API_KEY\")\n",
    "os.environ[\"OPENAI_MODEL_NAME\"] = 'gpt-3.5-turbo'"
   ]
  },
  {
   "cell_type": "markdown",
   "metadata": {},
   "source": [
    "## Creating Agents\n",
    "\n",
    "- Define your Agents, and provide them a `role`, `goal` and `backstory`.\n",
    "- It has been seen that LLMs perform better when they are role playing."
   ]
  },
  {
   "cell_type": "markdown",
   "metadata": {},
   "source": [
    "### Agent: Planner\n",
    "\n",
    "**Note**: The benefit of using _multiple strings_ :\n",
    "```Python\n",
    "varname = \"line 1 of text\"\n",
    "          \"line 2 of text\"\n",
    "```\n",
    "\n",
    "versus the _triple quote docstring_:\n",
    "```Python\n",
    "varname = \"\"\"line 1 of text\n",
    "             line 2 of text\n",
    "          \"\"\"\n",
    "```\n",
    "is that it can avoid adding those whitespaces and newline characters, making it better formatted to be passed to the LLM."
   ]
  },
  {
   "cell_type": "code",
   "execution_count": 6,
   "metadata": {
    "height": 234
   },
   "outputs": [],
   "source": [
    "planner = Agent(\n",
    "    role=\"Content Planner\",\n",
    "    goal=\"Plan engaging and factually accurate content on {topic}\",\n",
    "    backstory=\"You're working on planning a blog article \"\n",
    "              \"about the topic: {topic}.\"\n",
    "              \"You collect information that helps the \"\n",
    "              \"audience learn something \"\n",
    "              \"and make informed decisions. \"\n",
    "              \"Your work is the basis for \"\n",
    "              \"the Content Writer to write an article on this topic.\",\n",
    "    allow_delegation=False,\n",
    "\tverbose=True\n",
    ")"
   ]
  },
  {
   "cell_type": "markdown",
   "metadata": {},
   "source": [
    "### Agent: Writer"
   ]
  },
  {
   "cell_type": "code",
   "execution_count": 7,
   "metadata": {
    "height": 370
   },
   "outputs": [],
   "source": [
    "writer = Agent(\n",
    "    role=\"Content Writer\",\n",
    "    goal=\"Write insightful and factually accurate \"\n",
    "         \"opinion piece about the topic: {topic}\",\n",
    "    backstory=\"You're working on a writing \"\n",
    "              \"a new opinion piece about the topic: {topic}. \"\n",
    "              \"You base your writing on the work of \"\n",
    "              \"the Content Planner, who provides an outline \"\n",
    "              \"and relevant context about the topic. \"\n",
    "              \"You follow the main objectives and \"\n",
    "              \"direction of the outline, \"\n",
    "              \"as provide by the Content Planner. \"\n",
    "              \"You also provide objective and impartial insights \"\n",
    "              \"and back them up with information \"\n",
    "              \"provide by the Content Planner. \"\n",
    "              \"You acknowledge in your opinion piece \"\n",
    "              \"when your statements are opinions \"\n",
    "              \"as opposed to objective statements.\",\n",
    "    allow_delegation=False,\n",
    "    verbose=True\n",
    ")"
   ]
  },
  {
   "cell_type": "markdown",
   "metadata": {},
   "source": [
    "### Agent: Editor"
   ]
  },
  {
   "cell_type": "code",
   "execution_count": 8,
   "metadata": {
    "height": 268
   },
   "outputs": [],
   "source": [
    "editor = Agent(\n",
    "    role=\"Editor\",\n",
    "    goal=\"Edit a given blog post to align with \"\n",
    "         \"the writing style of the organization. \",\n",
    "    backstory=\"You are an editor who receives a blog post \"\n",
    "              \"from the Content Writer. \"\n",
    "              \"Your goal is to review the blog post \"\n",
    "              \"to ensure that it follows journalistic best practices,\"\n",
    "              \"provides balanced viewpoints \"\n",
    "              \"when providing opinions or assertions, \"\n",
    "              \"and also avoids major controversial topics \"\n",
    "              \"or opinions when possible.\",\n",
    "    allow_delegation=False,\n",
    "    verbose=True\n",
    ")"
   ]
  },
  {
   "cell_type": "markdown",
   "metadata": {},
   "source": [
    "## Creating Tasks\n",
    "\n",
    "- Define your Tasks, and provide them a `description`, `expected_output` and `agent`."
   ]
  },
  {
   "cell_type": "markdown",
   "metadata": {},
   "source": [
    "### Task: Plan"
   ]
  },
  {
   "cell_type": "code",
   "execution_count": 9,
   "metadata": {
    "height": 268
   },
   "outputs": [],
   "source": [
    "plan = Task(\n",
    "    description=(\n",
    "        \"1. Prioritize the latest trends, key players, \"\n",
    "            \"and noteworthy news on {topic}.\\n\"\n",
    "        \"2. Identify the target audience, considering \"\n",
    "            \"their interests and pain points.\\n\"\n",
    "        \"3. Develop a detailed content outline including \"\n",
    "            \"an introduction, key points, and a call to action.\\n\"\n",
    "        \"4. Include SEO keywords and relevant data or sources.\"\n",
    "    ),\n",
    "    expected_output=\"A comprehensive content plan document \"\n",
    "        \"with an outline, audience analysis, \"\n",
    "        \"SEO keywords, and resources.\",\n",
    "    agent=planner,\n",
    ")"
   ]
  },
  {
   "cell_type": "markdown",
   "metadata": {},
   "source": [
    "### Task: Write"
   ]
  },
  {
   "cell_type": "code",
   "execution_count": 10,
   "metadata": {
    "height": 319
   },
   "outputs": [],
   "source": [
    "write = Task(\n",
    "    description=(\n",
    "        \"1. Use the content plan to craft a compelling \"\n",
    "            \"blog post on {topic}.\\n\"\n",
    "        \"2. Incorporate SEO keywords naturally.\\n\"\n",
    "\t\t\"3. Sections/Subtitles are properly named \"\n",
    "            \"in an engaging manner.\\n\"\n",
    "        \"4. Ensure the post is structured with an \"\n",
    "            \"engaging introduction, insightful body, \"\n",
    "            \"and a summarizing conclusion.\\n\"\n",
    "        \"5. Proofread for grammatical errors and \"\n",
    "            \"alignment with the brand's voice.\\n\"\n",
    "    ),\n",
    "    expected_output=\"A well-written blog post \"\n",
    "        \"in markdown format, ready for publication, \"\n",
    "        \"each section should have 2 or 3 paragraphs.\",\n",
    "    agent=writer,\n",
    ")"
   ]
  },
  {
   "cell_type": "markdown",
   "metadata": {},
   "source": [
    "### Task: Edit"
   ]
  },
  {
   "cell_type": "code",
   "execution_count": 11,
   "metadata": {
    "height": 166
   },
   "outputs": [],
   "source": [
    "edit = Task(\n",
    "    description=(\"Proofread the given blog post for \"\n",
    "                 \"grammatical errors and \"\n",
    "                 \"alignment with the brand's voice.\"),\n",
    "    expected_output=\"A well-written blog post in markdown format, \"\n",
    "                    \"ready for publication, \"\n",
    "                    \"each section should have 2 or 3 paragraphs.\",\n",
    "    agent=editor\n",
    ")"
   ]
  },
  {
   "cell_type": "markdown",
   "metadata": {},
   "source": [
    "## Creating the Crew\n",
    "\n",
    "- Create your crew of Agents\n",
    "- Pass the tasks to be performed by those agents.\n",
    "    - **Note**: *For this simple example*, the tasks will be performed sequentially (i.e they are dependent on each other), so the _order_ of the task in the list _matters_.\n",
    "- `verbose=2` allows you to see all the logs of the execution. "
   ]
  },
  {
   "cell_type": "code",
   "execution_count": 14,
   "metadata": {
    "height": 98
   },
   "outputs": [
    {
     "name": "stderr",
     "output_type": "stream",
     "text": [
      "Overriding of current TracerProvider is not allowed\n"
     ]
    }
   ],
   "source": [
    "crew = Crew(\n",
    "    agents=[planner, writer, editor],\n",
    "    tasks=[plan, write, edit],\n",
    "    verbose=1\n",
    ")"
   ]
  },
  {
   "cell_type": "markdown",
   "metadata": {},
   "source": [
    "## Running the Crew"
   ]
  },
  {
   "cell_type": "markdown",
   "metadata": {},
   "source": [
    "**Note**: LLMs can provide different outputs for they same input, so what you get might be different than what you see in the video."
   ]
  },
  {
   "cell_type": "code",
   "execution_count": 15,
   "metadata": {
    "height": 30
   },
   "outputs": [
    {
     "name": "stdout",
     "output_type": "stream",
     "text": [
      "\u001b[1m\u001b[95m# Agent:\u001b[00m \u001b[1m\u001b[92mContent Planner\u001b[00m\n",
      "\u001b[95m## Task:\u001b[00m \u001b[92m1. Prioritize the latest trends, key players, and noteworthy news on Artificial Intelligence.\n",
      "2. Identify the target audience, considering their interests and pain points.\n",
      "3. Develop a detailed content outline including an introduction, key points, and a call to action.\n",
      "4. Include SEO keywords and relevant data or sources.\u001b[00m\n",
      "\n",
      "\n",
      "\u001b[1m\u001b[95m# Agent:\u001b[00m \u001b[1m\u001b[92mContent Planner\u001b[00m\n",
      "\u001b[95m## Final Answer:\u001b[00m \u001b[92m\n",
      "Title: Unveiling the Future: Exploring the Latest Trends and Players in Artificial Intelligence\n",
      "\n",
      "Outline:\n",
      "I. Introduction\n",
      "- Brief overview of Artificial Intelligence (AI) and its impact on various industries.\n",
      "- Thesis statement: Delving into the latest trends, top players, and noteworthy news in the ever-evolving field of AI.\n",
      "\n",
      "II. Latest Trends in Artificial Intelligence\n",
      "A. Machine Learning Advances\n",
      "- Discuss the recent advancements in machine learning algorithms and their applications.\n",
      "B. Natural Language Processing (NLP) Developments\n",
      "- Explore the breakthroughs in NLP technologies, including sentiment analysis and language translation.\n",
      "C. Robotics and Automation\n",
      "- Examine how AI is revolutionizing robotics and automation with concepts like self-driving cars and drone technology.\n",
      "\n",
      "III. Key Players in the AI Industry\n",
      "A. Technology Giants\n",
      "- Highlight the contributions of companies like Google, Amazon, and Microsoft in shaping the AI landscape.\n",
      "B. Startups and Innovators\n",
      "- Showcase emerging startups and innovators who are disrupting the AI industry with unique solutions.\n",
      "C. Academic and Research Institutions\n",
      "- Discuss the role of universities and research institutions in AI development and innovation.\n",
      "\n",
      "IV. Noteworthy News in Artificial Intelligence\n",
      "A. Ethical Considerations\n",
      "- Address the ethical implications of AI technologies and the importance of responsible AI development.\n",
      "B. Industry Collaborations\n",
      "- Report on recent partnerships between AI companies and other industries for mutual growth and innovation.\n",
      "C. Regulatory Updates\n",
      "- Update on the latest regulations and policies in the AI sector from governing bodies.\n",
      "\n",
      "V. Target Audience Analysis\n",
      "- The target audience for this article includes tech enthusiasts, industry professionals, and business leaders looking to stay informed on the latest trends in AI.\n",
      "- Interests: Cutting-edge technology, innovation, industry disruptions.\n",
      "- Pain points: Keeping up with rapid advancements in AI, understanding the implications of AI on society and business.\n",
      "\n",
      "VI. SEO Keywords:\n",
      "- Artificial Intelligence trends 2022\n",
      "- Top AI companies\n",
      "- Latest news on machine learning\n",
      "- AI developments in robotics\n",
      "- Responsible AI practices\n",
      "\n",
      "VII. Resources:\n",
      "- Industry reports from Gartner and Forrester Research.\n",
      "- Recent articles from reputable sources like MIT Technology Review and Forbes on AI trends.\n",
      "- Academic papers from leading institutions on AI ethics and regulations.\n",
      "\n",
      "Call to Action: Stay ahead in the AI race by keeping yourself updated with the latest trends and developments. Subscribe to our newsletter for regular insights on Artificial Intelligence.\n",
      "\n",
      "This comprehensive content plan aims to provide valuable insights to the target audience while incorporating SEO strategies for maximum visibility and engagement.\u001b[00m\n",
      "\n",
      "\n",
      "\u001b[1m\u001b[95m# Agent:\u001b[00m \u001b[1m\u001b[92mContent Writer\u001b[00m\n",
      "\u001b[95m## Task:\u001b[00m \u001b[92m1. Use the content plan to craft a compelling blog post on Artificial Intelligence.\n",
      "2. Incorporate SEO keywords naturally.\n",
      "3. Sections/Subtitles are properly named in an engaging manner.\n",
      "4. Ensure the post is structured with an engaging introduction, insightful body, and a summarizing conclusion.\n",
      "5. Proofread for grammatical errors and alignment with the brand's voice.\n",
      "\u001b[00m\n",
      "\n",
      "\n",
      "\u001b[1m\u001b[95m# Agent:\u001b[00m \u001b[1m\u001b[92mContent Writer\u001b[00m\n",
      "\u001b[95m## Final Answer:\u001b[00m \u001b[92m\n",
      "# Unveiling the Future: Exploring the Latest Trends and Players in Artificial Intelligence\n",
      "\n",
      "## Introduction\n",
      "\n",
      "Artificial Intelligence (AI) has rapidly transformed from a futuristic concept to a ubiquitous presence in today's world, impacting various industries and reshaping the way we interact with technology. This blog post aims to delve into the latest trends, top players, and noteworthy news in the ever-evolving field of AI, offering insights into the advancements driving innovation and the key contributors shaping the industry landscape.\n",
      "\n",
      "## Latest Trends in Artificial Intelligence\n",
      "\n",
      "### Machine Learning Advances\n",
      "One of the most significant trends in AI is the continuous advancements in machine learning algorithms. Recent breakthroughs have propelled AI capabilities to new heights, enabling more accurate predictions, personalized recommendations, and enhanced decision-making processes across industries. From predictive analytics to image recognition, machine learning is at the forefront of driving AI innovation.\n",
      "\n",
      "### Natural Language Processing (NLP) Developments\n",
      "Another key trend in AI revolves around Natural Language Processing (NLP) developments. The evolution of NLP technologies has revolutionized how machines understand and generate human language. Sentiment analysis, language translation, and conversational AI interfaces are just a few examples of how NLP is enhancing communication and user experiences in applications ranging from chatbots to virtual assistants.\n",
      "\n",
      "### Robotics and Automation\n",
      "AI's impact on robotics and automation is undeniable, with concepts like self-driving cars and drone technology pushing boundaries in autonomous systems. The integration of AI algorithms into robotics has not only increased efficiency and productivity but also opened new possibilities in sectors such as manufacturing, logistics, and healthcare. The future of work is being reimagined through AI-driven robotics and automation solutions.\n",
      "\n",
      "## Key Players in the AI Industry\n",
      "\n",
      "### Technology Giants\n",
      "Tech titans like Google, Amazon, and Microsoft have played pivotal roles in shaping the AI industry through investments, acquisitions, and groundbreaking research. Their contributions to AI innovation span across various domains, from cloud computing services to AI-powered products and services, solidifying their positions as key players driving the AI revolution.\n",
      "\n",
      "### Startups and Innovators\n",
      "While established companies dominate the AI landscape, startups and innovators bring fresh perspectives and disruptive solutions to the table. Emerging AI startups are challenging traditional paradigms with niche offerings in areas such as healthcare, finance, and cybersecurity, showcasing the diversity and ingenuity present in the AI startup ecosystem.\n",
      "\n",
      "### Academic and Research Institutions\n",
      "Universities and research institutions serve as the breeding grounds for cutting-edge AI research and talent development. Their contributions to AI development through academic publications, collaborative projects, and fostering future AI leaders are instrumental in pushing the boundaries of innovation and addressing complex challenges in the field.\n",
      "\n",
      "## Noteworthy News in Artificial Intelligence\n",
      "\n",
      "### Ethical Considerations\n",
      "As AI technologies continue to advance, ethical considerations surrounding AI development and deployment have come under intense scrutiny. The responsible use of AI, transparent algorithms, and data privacy are paramount in ensuring that AI benefits society while mitigating potential risks and biases inherent in AI systems.\n",
      "\n",
      "### Industry Collaborations\n",
      "Collaborations between AI companies and other industries have become increasingly common, fostering synergies and driving cross-sector innovation. Partnerships between AI startups and established corporations, as well as collaborations between AI researchers and industry practitioners, are leveraging collective expertise to solve real-world problems and propel AI applications to new heights.\n",
      "\n",
      "### Regulatory Updates\n",
      "The dynamic nature of the AI landscape means that regulatory frameworks must adapt to keep pace with technological advancements. Stay updated on the latest regulations and policies governing AI practices, as governments and regulatory bodies worldwide navigate the complexities of AI ethics, accountability, and compliance in an evolving digital era.\n",
      "\n",
      "## Target Audience Analysis\n",
      "\n",
      "This article caters to a diverse audience, including tech enthusiasts, industry professionals, and business leaders seeking to stay informed on the latest trends in AI. By addressing interests in cutting-edge technology, innovation, and industry disruptions, this content aims to provide valuable insights and actionable knowledge to those navigating the complex AI landscape.\n",
      "\n",
      "## SEO Keywords\n",
      "- Artificial Intelligence trends 2022\n",
      "- Top AI companies\n",
      "- Latest news on machine learning\n",
      "- AI developments in robotics\n",
      "- Responsible AI practices\n",
      "\n",
      "## Resources\n",
      "For in-depth insights into AI trends and developments, refer to industry reports from Gartner and Forrester Research, recent articles from reputable sources like MIT Technology Review and Forbes, and academic papers from leading institutions on AI ethics and regulations.\n",
      "\n",
      "**Call to Action:** Stay ahead in the AI race by staying informed on the latest trends and developments. Subscribe to our newsletter for regular insights on Artificial Intelligence.\u001b[00m\n",
      "\n",
      "\n",
      "\u001b[1m\u001b[95m# Agent:\u001b[00m \u001b[1m\u001b[92mEditor\u001b[00m\n",
      "\u001b[95m## Task:\u001b[00m \u001b[92mProofread the given blog post for grammatical errors and alignment with the brand's voice.\u001b[00m\n",
      "\n",
      "\n",
      "\u001b[1m\u001b[95m# Agent:\u001b[00m \u001b[1m\u001b[92mEditor\u001b[00m\n",
      "\u001b[95m## Final Answer:\u001b[00m \u001b[92m\n",
      "# Unveiling the Future: Exploring the Latest Trends and Players in Artificial Intelligence\n",
      "\n",
      "## Introduction\n",
      "\n",
      "Artificial Intelligence (AI) has rapidly transformed from a futuristic concept to a ubiquitous presence in today's world, impacting various industries and reshaping the way we interact with technology. This blog post aims to delve into the latest trends, top players, and noteworthy news in the ever-evolving field of AI, offering insights into the advancements driving innovation and the key contributors shaping the industry landscape.\n",
      "\n",
      "## Latest Trends in Artificial Intelligence\n",
      "\n",
      "### Machine Learning Advances\n",
      "One of the most significant trends in AI is the continuous advancements in machine learning algorithms. Recent breakthroughs have propelled AI capabilities to new heights, enabling more accurate predictions, personalized recommendations, and enhanced decision-making processes across industries. From predictive analytics to image recognition, machine learning is at the forefront of driving AI innovation.\n",
      "\n",
      "### Natural Language Processing (NLP) Developments\n",
      "Another key trend in AI revolves around Natural Language Processing (NLP) developments. The evolution of NLP technologies has revolutionized how machines understand and generate human language. Sentiment analysis, language translation, and conversational AI interfaces are just a few examples of how NLP is enhancing communication and user experiences in applications ranging from chatbots to virtual assistants.\n",
      "\n",
      "### Robotics and Automation\n",
      "AI's impact on robotics and automation is undeniable, with concepts like self-driving cars and drone technology pushing boundaries in autonomous systems. The integration of AI algorithms into robotics has not only increased efficiency and productivity but also opened new possibilities in sectors such as manufacturing, logistics, and healthcare. The future of work is being reimagined through AI-driven robotics and automation solutions.\n",
      "\n",
      "## Key Players in the AI Industry\n",
      "\n",
      "### Technology Giants\n",
      "Tech titans like Google, Amazon, and Microsoft have played pivotal roles in shaping the AI industry through investments, acquisitions, and groundbreaking research. Their contributions to AI innovation span across various domains, from cloud computing services to AI-powered products and services, solidifying their positions as key players driving the AI revolution.\n",
      "\n",
      "### Startups and Innovators\n",
      "While established companies dominate the AI landscape, startups and innovators bring fresh perspectives and disruptive solutions to the table. Emerging AI startups are challenging traditional paradigms with niche offerings in areas such as healthcare, finance, and cybersecurity, showcasing the diversity and ingenuity present in the AI startup ecosystem.\n",
      "\n",
      "### Academic and Research Institutions\n",
      "Universities and research institutions serve as the breeding grounds for cutting-edge AI research and talent development. Their contributions to AI development through academic publications, collaborative projects, and fostering future AI leaders are instrumental in pushing the boundaries of innovation and addressing complex challenges in the field.\n",
      "\n",
      "## Noteworthy News in Artificial Intelligence\n",
      "\n",
      "### Ethical Considerations\n",
      "As AI technologies continue to advance, ethical considerations surrounding AI development and deployment have come under intense scrutiny. The responsible use of AI, transparent algorithms, and data privacy are paramount in ensuring that AI benefits society while mitigating potential risks and biases inherent in AI systems.\n",
      "\n",
      "### Industry Collaborations\n",
      "Collaborations between AI companies and other industries have become increasingly common, fostering synergies and driving cross-sector innovation. Partnerships between AI startups and established corporations, as well as collaborations between AI researchers and industry practitioners, are leveraging collective expertise to solve real-world problems and propel AI applications to new heights.\n",
      "\n",
      "### Regulatory Updates\n",
      "The dynamic nature of the AI landscape means that regulatory frameworks must adapt to keep pace with technological advancements. Stay updated on the latest regulations and policies governing AI practices, as governments and regulatory bodies worldwide navigate the complexities of AI ethics, accountability, and compliance in an evolving digital era.\n",
      "\n",
      "## Target Audience Analysis\n",
      "\n",
      "This article caters to a diverse audience, including tech enthusiasts, industry professionals, and business leaders seeking to stay informed on the latest trends in AI. By addressing interests in cutting-edge technology, innovation, and industry disruptions, this content aims to provide valuable insights and actionable knowledge to those navigating the complex AI landscape.\n",
      "\n",
      "## SEO Keywords\n",
      "- Artificial Intelligence trends 2022\n",
      "- Top AI companies\n",
      "- Latest news on machine learning\n",
      "- AI developments in robotics\n",
      "- Responsible AI practices\n",
      "\n",
      "## Resources\n",
      "For in-depth insights into AI trends and developments, refer to industry reports from Gartner and Forrester Research, recent articles from reputable sources like MIT Technology Review and Forbes, and academic papers from leading institutions on AI ethics and regulations.\n",
      "\n",
      "**Call to Action:** Stay ahead in the AI race by staying informed on the latest trends and developments. Subscribe to our newsletter for regular insights on Artificial Intelligence.\u001b[00m\n",
      "\n",
      "\n"
     ]
    }
   ],
   "source": [
    "result = crew.kickoff(inputs={\"topic\": \"Artificial Intelligence\"})"
   ]
  },
  {
   "cell_type": "markdown",
   "metadata": {},
   "source": [
    "- Display the results of your execution as markdown in the notebook."
   ]
  },
  {
   "cell_type": "code",
   "execution_count": null,
   "metadata": {},
   "outputs": [
    {
     "data": {
      "text/plain": [
       "CrewOutput(raw=\"# Unveiling the Future: Exploring the Latest Trends and Players in Artificial Intelligence\\n\\n## Introduction\\n\\nArtificial Intelligence (AI) has rapidly transformed from a futuristic concept to a ubiquitous presence in today's world, impacting various industries and reshaping the way we interact with technology. This blog post aims to delve into the latest trends, top players, and noteworthy news in the ever-evolving field of AI, offering insights into the advancements driving innovation and the key contributors shaping the industry landscape.\\n\\n## Latest Trends in Artificial Intelligence\\n\\n### Machine Learning Advances\\nOne of the most significant trends in AI is the continuous advancements in machine learning algorithms. Recent breakthroughs have propelled AI capabilities to new heights, enabling more accurate predictions, personalized recommendations, and enhanced decision-making processes across industries. From predictive analytics to image recognition, machine learning is at the forefront of driving AI innovation.\\n\\n### Natural Language Processing (NLP) Developments\\nAnother key trend in AI revolves around Natural Language Processing (NLP) developments. The evolution of NLP technologies has revolutionized how machines understand and generate human language. Sentiment analysis, language translation, and conversational AI interfaces are just a few examples of how NLP is enhancing communication and user experiences in applications ranging from chatbots to virtual assistants.\\n\\n### Robotics and Automation\\nAI's impact on robotics and automation is undeniable, with concepts like self-driving cars and drone technology pushing boundaries in autonomous systems. The integration of AI algorithms into robotics has not only increased efficiency and productivity but also opened new possibilities in sectors such as manufacturing, logistics, and healthcare. The future of work is being reimagined through AI-driven robotics and automation solutions.\\n\\n## Key Players in the AI Industry\\n\\n### Technology Giants\\nTech titans like Google, Amazon, and Microsoft have played pivotal roles in shaping the AI industry through investments, acquisitions, and groundbreaking research. Their contributions to AI innovation span across various domains, from cloud computing services to AI-powered products and services, solidifying their positions as key players driving the AI revolution.\\n\\n### Startups and Innovators\\nWhile established companies dominate the AI landscape, startups and innovators bring fresh perspectives and disruptive solutions to the table. Emerging AI startups are challenging traditional paradigms with niche offerings in areas such as healthcare, finance, and cybersecurity, showcasing the diversity and ingenuity present in the AI startup ecosystem.\\n\\n### Academic and Research Institutions\\nUniversities and research institutions serve as the breeding grounds for cutting-edge AI research and talent development. Their contributions to AI development through academic publications, collaborative projects, and fostering future AI leaders are instrumental in pushing the boundaries of innovation and addressing complex challenges in the field.\\n\\n## Noteworthy News in Artificial Intelligence\\n\\n### Ethical Considerations\\nAs AI technologies continue to advance, ethical considerations surrounding AI development and deployment have come under intense scrutiny. The responsible use of AI, transparent algorithms, and data privacy are paramount in ensuring that AI benefits society while mitigating potential risks and biases inherent in AI systems.\\n\\n### Industry Collaborations\\nCollaborations between AI companies and other industries have become increasingly common, fostering synergies and driving cross-sector innovation. Partnerships between AI startups and established corporations, as well as collaborations between AI researchers and industry practitioners, are leveraging collective expertise to solve real-world problems and propel AI applications to new heights.\\n\\n### Regulatory Updates\\nThe dynamic nature of the AI landscape means that regulatory frameworks must adapt to keep pace with technological advancements. Stay updated on the latest regulations and policies governing AI practices, as governments and regulatory bodies worldwide navigate the complexities of AI ethics, accountability, and compliance in an evolving digital era.\\n\\n## Target Audience Analysis\\n\\nThis article caters to a diverse audience, including tech enthusiasts, industry professionals, and business leaders seeking to stay informed on the latest trends in AI. By addressing interests in cutting-edge technology, innovation, and industry disruptions, this content aims to provide valuable insights and actionable knowledge to those navigating the complex AI landscape.\\n\\n## SEO Keywords\\n- Artificial Intelligence trends 2022\\n- Top AI companies\\n- Latest news on machine learning\\n- AI developments in robotics\\n- Responsible AI practices\\n\\n## Resources\\nFor in-depth insights into AI trends and developments, refer to industry reports from Gartner and Forrester Research, recent articles from reputable sources like MIT Technology Review and Forbes, and academic papers from leading institutions on AI ethics and regulations.\\n\\n**Call to Action:** Stay ahead in the AI race by staying informed on the latest trends and developments. Subscribe to our newsletter for regular insights on Artificial Intelligence.\", pydantic=None, json_dict=None, tasks_output=[TaskOutput(description='1. Prioritize the latest trends, key players, and noteworthy news on Artificial Intelligence.\\n2. Identify the target audience, considering their interests and pain points.\\n3. Develop a detailed content outline including an introduction, key points, and a call to action.\\n4. Include SEO keywords and relevant data or sources.', name=None, expected_output='A comprehensive content plan document with an outline, audience analysis, SEO keywords, and resources.', summary='1. Prioritize the latest trends, key players, and noteworthy news...', raw='Title: Unveiling the Future: Exploring the Latest Trends and Players in Artificial Intelligence\\n\\nOutline:\\nI. Introduction\\n- Brief overview of Artificial Intelligence (AI) and its impact on various industries.\\n- Thesis statement: Delving into the latest trends, top players, and noteworthy news in the ever-evolving field of AI.\\n\\nII. Latest Trends in Artificial Intelligence\\nA. Machine Learning Advances\\n- Discuss the recent advancements in machine learning algorithms and their applications.\\nB. Natural Language Processing (NLP) Developments\\n- Explore the breakthroughs in NLP technologies, including sentiment analysis and language translation.\\nC. Robotics and Automation\\n- Examine how AI is revolutionizing robotics and automation with concepts like self-driving cars and drone technology.\\n\\nIII. Key Players in the AI Industry\\nA. Technology Giants\\n- Highlight the contributions of companies like Google, Amazon, and Microsoft in shaping the AI landscape.\\nB. Startups and Innovators\\n- Showcase emerging startups and innovators who are disrupting the AI industry with unique solutions.\\nC. Academic and Research Institutions\\n- Discuss the role of universities and research institutions in AI development and innovation.\\n\\nIV. Noteworthy News in Artificial Intelligence\\nA. Ethical Considerations\\n- Address the ethical implications of AI technologies and the importance of responsible AI development.\\nB. Industry Collaborations\\n- Report on recent partnerships between AI companies and other industries for mutual growth and innovation.\\nC. Regulatory Updates\\n- Update on the latest regulations and policies in the AI sector from governing bodies.\\n\\nV. Target Audience Analysis\\n- The target audience for this article includes tech enthusiasts, industry professionals, and business leaders looking to stay informed on the latest trends in AI.\\n- Interests: Cutting-edge technology, innovation, industry disruptions.\\n- Pain points: Keeping up with rapid advancements in AI, understanding the implications of AI on society and business.\\n\\nVI. SEO Keywords:\\n- Artificial Intelligence trends 2022\\n- Top AI companies\\n- Latest news on machine learning\\n- AI developments in robotics\\n- Responsible AI practices\\n\\nVII. Resources:\\n- Industry reports from Gartner and Forrester Research.\\n- Recent articles from reputable sources like MIT Technology Review and Forbes on AI trends.\\n- Academic papers from leading institutions on AI ethics and regulations.\\n\\nCall to Action: Stay ahead in the AI race by keeping yourself updated with the latest trends and developments. Subscribe to our newsletter for regular insights on Artificial Intelligence.\\n\\nThis comprehensive content plan aims to provide valuable insights to the target audience while incorporating SEO strategies for maximum visibility and engagement.', pydantic=None, json_dict=None, agent='Content Planner', output_format=<OutputFormat.RAW: 'raw'>), TaskOutput(description=\"1. Use the content plan to craft a compelling blog post on Artificial Intelligence.\\n2. Incorporate SEO keywords naturally.\\n3. Sections/Subtitles are properly named in an engaging manner.\\n4. Ensure the post is structured with an engaging introduction, insightful body, and a summarizing conclusion.\\n5. Proofread for grammatical errors and alignment with the brand's voice.\\n\", name=None, expected_output='A well-written blog post in markdown format, ready for publication, each section should have 2 or 3 paragraphs.', summary='1. Use the content plan to craft a compelling blog...', raw=\"# Unveiling the Future: Exploring the Latest Trends and Players in Artificial Intelligence\\n\\n## Introduction\\n\\nArtificial Intelligence (AI) has rapidly transformed from a futuristic concept to a ubiquitous presence in today's world, impacting various industries and reshaping the way we interact with technology. This blog post aims to delve into the latest trends, top players, and noteworthy news in the ever-evolving field of AI, offering insights into the advancements driving innovation and the key contributors shaping the industry landscape.\\n\\n## Latest Trends in Artificial Intelligence\\n\\n### Machine Learning Advances\\nOne of the most significant trends in AI is the continuous advancements in machine learning algorithms. Recent breakthroughs have propelled AI capabilities to new heights, enabling more accurate predictions, personalized recommendations, and enhanced decision-making processes across industries. From predictive analytics to image recognition, machine learning is at the forefront of driving AI innovation.\\n\\n### Natural Language Processing (NLP) Developments\\nAnother key trend in AI revolves around Natural Language Processing (NLP) developments. The evolution of NLP technologies has revolutionized how machines understand and generate human language. Sentiment analysis, language translation, and conversational AI interfaces are just a few examples of how NLP is enhancing communication and user experiences in applications ranging from chatbots to virtual assistants.\\n\\n### Robotics and Automation\\nAI's impact on robotics and automation is undeniable, with concepts like self-driving cars and drone technology pushing boundaries in autonomous systems. The integration of AI algorithms into robotics has not only increased efficiency and productivity but also opened new possibilities in sectors such as manufacturing, logistics, and healthcare. The future of work is being reimagined through AI-driven robotics and automation solutions.\\n\\n## Key Players in the AI Industry\\n\\n### Technology Giants\\nTech titans like Google, Amazon, and Microsoft have played pivotal roles in shaping the AI industry through investments, acquisitions, and groundbreaking research. Their contributions to AI innovation span across various domains, from cloud computing services to AI-powered products and services, solidifying their positions as key players driving the AI revolution.\\n\\n### Startups and Innovators\\nWhile established companies dominate the AI landscape, startups and innovators bring fresh perspectives and disruptive solutions to the table. Emerging AI startups are challenging traditional paradigms with niche offerings in areas such as healthcare, finance, and cybersecurity, showcasing the diversity and ingenuity present in the AI startup ecosystem.\\n\\n### Academic and Research Institutions\\nUniversities and research institutions serve as the breeding grounds for cutting-edge AI research and talent development. Their contributions to AI development through academic publications, collaborative projects, and fostering future AI leaders are instrumental in pushing the boundaries of innovation and addressing complex challenges in the field.\\n\\n## Noteworthy News in Artificial Intelligence\\n\\n### Ethical Considerations\\nAs AI technologies continue to advance, ethical considerations surrounding AI development and deployment have come under intense scrutiny. The responsible use of AI, transparent algorithms, and data privacy are paramount in ensuring that AI benefits society while mitigating potential risks and biases inherent in AI systems.\\n\\n### Industry Collaborations\\nCollaborations between AI companies and other industries have become increasingly common, fostering synergies and driving cross-sector innovation. Partnerships between AI startups and established corporations, as well as collaborations between AI researchers and industry practitioners, are leveraging collective expertise to solve real-world problems and propel AI applications to new heights.\\n\\n### Regulatory Updates\\nThe dynamic nature of the AI landscape means that regulatory frameworks must adapt to keep pace with technological advancements. Stay updated on the latest regulations and policies governing AI practices, as governments and regulatory bodies worldwide navigate the complexities of AI ethics, accountability, and compliance in an evolving digital era.\\n\\n## Target Audience Analysis\\n\\nThis article caters to a diverse audience, including tech enthusiasts, industry professionals, and business leaders seeking to stay informed on the latest trends in AI. By addressing interests in cutting-edge technology, innovation, and industry disruptions, this content aims to provide valuable insights and actionable knowledge to those navigating the complex AI landscape.\\n\\n## SEO Keywords\\n- Artificial Intelligence trends 2022\\n- Top AI companies\\n- Latest news on machine learning\\n- AI developments in robotics\\n- Responsible AI practices\\n\\n## Resources\\nFor in-depth insights into AI trends and developments, refer to industry reports from Gartner and Forrester Research, recent articles from reputable sources like MIT Technology Review and Forbes, and academic papers from leading institutions on AI ethics and regulations.\\n\\n**Call to Action:** Stay ahead in the AI race by staying informed on the latest trends and developments. Subscribe to our newsletter for regular insights on Artificial Intelligence.\", pydantic=None, json_dict=None, agent='Content Writer', output_format=<OutputFormat.RAW: 'raw'>), TaskOutput(description=\"Proofread the given blog post for grammatical errors and alignment with the brand's voice.\", name=None, expected_output='A well-written blog post in markdown format, ready for publication, each section should have 2 or 3 paragraphs.', summary='Proofread the given blog post for grammatical errors and alignment...', raw=\"# Unveiling the Future: Exploring the Latest Trends and Players in Artificial Intelligence\\n\\n## Introduction\\n\\nArtificial Intelligence (AI) has rapidly transformed from a futuristic concept to a ubiquitous presence in today's world, impacting various industries and reshaping the way we interact with technology. This blog post aims to delve into the latest trends, top players, and noteworthy news in the ever-evolving field of AI, offering insights into the advancements driving innovation and the key contributors shaping the industry landscape.\\n\\n## Latest Trends in Artificial Intelligence\\n\\n### Machine Learning Advances\\nOne of the most significant trends in AI is the continuous advancements in machine learning algorithms. Recent breakthroughs have propelled AI capabilities to new heights, enabling more accurate predictions, personalized recommendations, and enhanced decision-making processes across industries. From predictive analytics to image recognition, machine learning is at the forefront of driving AI innovation.\\n\\n### Natural Language Processing (NLP) Developments\\nAnother key trend in AI revolves around Natural Language Processing (NLP) developments. The evolution of NLP technologies has revolutionized how machines understand and generate human language. Sentiment analysis, language translation, and conversational AI interfaces are just a few examples of how NLP is enhancing communication and user experiences in applications ranging from chatbots to virtual assistants.\\n\\n### Robotics and Automation\\nAI's impact on robotics and automation is undeniable, with concepts like self-driving cars and drone technology pushing boundaries in autonomous systems. The integration of AI algorithms into robotics has not only increased efficiency and productivity but also opened new possibilities in sectors such as manufacturing, logistics, and healthcare. The future of work is being reimagined through AI-driven robotics and automation solutions.\\n\\n## Key Players in the AI Industry\\n\\n### Technology Giants\\nTech titans like Google, Amazon, and Microsoft have played pivotal roles in shaping the AI industry through investments, acquisitions, and groundbreaking research. Their contributions to AI innovation span across various domains, from cloud computing services to AI-powered products and services, solidifying their positions as key players driving the AI revolution.\\n\\n### Startups and Innovators\\nWhile established companies dominate the AI landscape, startups and innovators bring fresh perspectives and disruptive solutions to the table. Emerging AI startups are challenging traditional paradigms with niche offerings in areas such as healthcare, finance, and cybersecurity, showcasing the diversity and ingenuity present in the AI startup ecosystem.\\n\\n### Academic and Research Institutions\\nUniversities and research institutions serve as the breeding grounds for cutting-edge AI research and talent development. Their contributions to AI development through academic publications, collaborative projects, and fostering future AI leaders are instrumental in pushing the boundaries of innovation and addressing complex challenges in the field.\\n\\n## Noteworthy News in Artificial Intelligence\\n\\n### Ethical Considerations\\nAs AI technologies continue to advance, ethical considerations surrounding AI development and deployment have come under intense scrutiny. The responsible use of AI, transparent algorithms, and data privacy are paramount in ensuring that AI benefits society while mitigating potential risks and biases inherent in AI systems.\\n\\n### Industry Collaborations\\nCollaborations between AI companies and other industries have become increasingly common, fostering synergies and driving cross-sector innovation. Partnerships between AI startups and established corporations, as well as collaborations between AI researchers and industry practitioners, are leveraging collective expertise to solve real-world problems and propel AI applications to new heights.\\n\\n### Regulatory Updates\\nThe dynamic nature of the AI landscape means that regulatory frameworks must adapt to keep pace with technological advancements. Stay updated on the latest regulations and policies governing AI practices, as governments and regulatory bodies worldwide navigate the complexities of AI ethics, accountability, and compliance in an evolving digital era.\\n\\n## Target Audience Analysis\\n\\nThis article caters to a diverse audience, including tech enthusiasts, industry professionals, and business leaders seeking to stay informed on the latest trends in AI. By addressing interests in cutting-edge technology, innovation, and industry disruptions, this content aims to provide valuable insights and actionable knowledge to those navigating the complex AI landscape.\\n\\n## SEO Keywords\\n- Artificial Intelligence trends 2022\\n- Top AI companies\\n- Latest news on machine learning\\n- AI developments in robotics\\n- Responsible AI practices\\n\\n## Resources\\nFor in-depth insights into AI trends and developments, refer to industry reports from Gartner and Forrester Research, recent articles from reputable sources like MIT Technology Review and Forbes, and academic papers from leading institutions on AI ethics and regulations.\\n\\n**Call to Action:** Stay ahead in the AI race by staying informed on the latest trends and developments. Subscribe to our newsletter for regular insights on Artificial Intelligence.\", pydantic=None, json_dict=None, agent='Editor', output_format=<OutputFormat.RAW: 'raw'>)], token_usage=UsageMetrics(total_tokens=5170, prompt_tokens=2819, cached_prompt_tokens=0, completion_tokens=2351, successful_requests=3))"
      ]
     },
     "execution_count": 17,
     "metadata": {},
     "output_type": "execute_result"
    }
   ],
   "source": [
    "result"
   ]
  },
  {
   "cell_type": "code",
   "execution_count": null,
   "metadata": {
    "height": 47
   },
   "outputs": [
    {
     "data": {
      "text/markdown": [
       "# Unveiling the Future: Exploring the Latest Trends and Players in Artificial Intelligence\n",
       "\n",
       "## Introduction\n",
       "\n",
       "Artificial Intelligence (AI) has rapidly transformed from a futuristic concept to a ubiquitous presence in today's world, impacting various industries and reshaping the way we interact with technology. This blog post aims to delve into the latest trends, top players, and noteworthy news in the ever-evolving field of AI, offering insights into the advancements driving innovation and the key contributors shaping the industry landscape.\n",
       "\n",
       "## Latest Trends in Artificial Intelligence\n",
       "\n",
       "### Machine Learning Advances\n",
       "One of the most significant trends in AI is the continuous advancements in machine learning algorithms. Recent breakthroughs have propelled AI capabilities to new heights, enabling more accurate predictions, personalized recommendations, and enhanced decision-making processes across industries. From predictive analytics to image recognition, machine learning is at the forefront of driving AI innovation.\n",
       "\n",
       "### Natural Language Processing (NLP) Developments\n",
       "Another key trend in AI revolves around Natural Language Processing (NLP) developments. The evolution of NLP technologies has revolutionized how machines understand and generate human language. Sentiment analysis, language translation, and conversational AI interfaces are just a few examples of how NLP is enhancing communication and user experiences in applications ranging from chatbots to virtual assistants.\n",
       "\n",
       "### Robotics and Automation\n",
       "AI's impact on robotics and automation is undeniable, with concepts like self-driving cars and drone technology pushing boundaries in autonomous systems. The integration of AI algorithms into robotics has not only increased efficiency and productivity but also opened new possibilities in sectors such as manufacturing, logistics, and healthcare. The future of work is being reimagined through AI-driven robotics and automation solutions.\n",
       "\n",
       "## Key Players in the AI Industry\n",
       "\n",
       "### Technology Giants\n",
       "Tech titans like Google, Amazon, and Microsoft have played pivotal roles in shaping the AI industry through investments, acquisitions, and groundbreaking research. Their contributions to AI innovation span across various domains, from cloud computing services to AI-powered products and services, solidifying their positions as key players driving the AI revolution.\n",
       "\n",
       "### Startups and Innovators\n",
       "While established companies dominate the AI landscape, startups and innovators bring fresh perspectives and disruptive solutions to the table. Emerging AI startups are challenging traditional paradigms with niche offerings in areas such as healthcare, finance, and cybersecurity, showcasing the diversity and ingenuity present in the AI startup ecosystem.\n",
       "\n",
       "### Academic and Research Institutions\n",
       "Universities and research institutions serve as the breeding grounds for cutting-edge AI research and talent development. Their contributions to AI development through academic publications, collaborative projects, and fostering future AI leaders are instrumental in pushing the boundaries of innovation and addressing complex challenges in the field.\n",
       "\n",
       "## Noteworthy News in Artificial Intelligence\n",
       "\n",
       "### Ethical Considerations\n",
       "As AI technologies continue to advance, ethical considerations surrounding AI development and deployment have come under intense scrutiny. The responsible use of AI, transparent algorithms, and data privacy are paramount in ensuring that AI benefits society while mitigating potential risks and biases inherent in AI systems.\n",
       "\n",
       "### Industry Collaborations\n",
       "Collaborations between AI companies and other industries have become increasingly common, fostering synergies and driving cross-sector innovation. Partnerships between AI startups and established corporations, as well as collaborations between AI researchers and industry practitioners, are leveraging collective expertise to solve real-world problems and propel AI applications to new heights.\n",
       "\n",
       "### Regulatory Updates\n",
       "The dynamic nature of the AI landscape means that regulatory frameworks must adapt to keep pace with technological advancements. Stay updated on the latest regulations and policies governing AI practices, as governments and regulatory bodies worldwide navigate the complexities of AI ethics, accountability, and compliance in an evolving digital era.\n",
       "\n",
       "## Target Audience Analysis\n",
       "\n",
       "This article caters to a diverse audience, including tech enthusiasts, industry professionals, and business leaders seeking to stay informed on the latest trends in AI. By addressing interests in cutting-edge technology, innovation, and industry disruptions, this content aims to provide valuable insights and actionable knowledge to those navigating the complex AI landscape.\n",
       "\n",
       "## SEO Keywords\n",
       "- Artificial Intelligence trends 2022\n",
       "- Top AI companies\n",
       "- Latest news on machine learning\n",
       "- AI developments in robotics\n",
       "- Responsible AI practices\n",
       "\n",
       "## Resources\n",
       "For in-depth insights into AI trends and developments, refer to industry reports from Gartner and Forrester Research, recent articles from reputable sources like MIT Technology Review and Forbes, and academic papers from leading institutions on AI ethics and regulations.\n",
       "\n",
       "**Call to Action:** Stay ahead in the AI race by staying informed on the latest trends and developments. Subscribe to our newsletter for regular insights on Artificial Intelligence."
      ],
      "text/plain": [
       "<IPython.core.display.Markdown object>"
      ]
     },
     "execution_count": 18,
     "metadata": {},
     "output_type": "execute_result"
    }
   ],
   "source": [
    "from IPython.display import Markdown\n",
    "Markdown(str(result))\n"
   ]
  },
  {
   "cell_type": "markdown",
   "metadata": {},
   "source": [
    "## Try it Yourself\n",
    "\n",
    "- Pass in a topic of your choice and see what the agents come up with!"
   ]
  },
  {
   "cell_type": "code",
   "execution_count": null,
   "metadata": {
    "height": 47
   },
   "outputs": [],
   "source": [
    "topic = \"YOUR TOPIC HERE\"\n",
    "result = crew.kickoff(inputs={\"topic\": topic})"
   ]
  },
  {
   "cell_type": "code",
   "execution_count": null,
   "metadata": {
    "height": 30
   },
   "outputs": [],
   "source": [
    "Markdown(result)"
   ]
  },
  {
   "cell_type": "markdown",
   "metadata": {},
   "source": [
    "<a name='1'></a>\n",
    " ## Other Popular Models as LLM for your Agents"
   ]
  },
  {
   "cell_type": "markdown",
   "metadata": {},
   "source": [
    "B#### Hugging Face (HuggingFaceHub endpoint)\n",
    "\n",
    "```Python\n",
    "from langchain_community.llms import HuggingFaceHub\n",
    "\n",
    "llm = HuggingFaceHub(\n",
    "    repo_id=\"HuggingFaceH4/zephyr-7b-beta\",\n",
    "    huggingfacehub_api_token=\"<HF_TOKEN_HERE>\",\n",
    "    task=\"text-generation\",\n",
    ")\n",
    "\n",
    "### you will pass \"llm\" to your agent function\n",
    "```"
   ]
  },
  {
   "cell_type": "code",
   "execution_count": 23,
   "metadata": {},
   "outputs": [
    {
     "name": "stderr",
     "output_type": "stream",
     "text": [
      "C:\\Users\\PC\\AppData\\Local\\Temp\\ipykernel_18400\\2724231878.py:3: LangChainDeprecationWarning: The class `HuggingFaceHub` was deprecated in LangChain 0.0.21 and will be removed in 1.0. An updated version of the class exists in the :class:`~langchain-huggingface package and should be used instead. To use it run `pip install -U :class:`~langchain-huggingface` and import as `from :class:`~langchain_huggingface import HuggingFaceEndpoint``.\n",
      "  llm = HuggingFaceHub(\n",
      "c:\\Users\\PC\\anaconda3\\envs\\crewai-tutorial\\lib\\site-packages\\tqdm\\auto.py:21: TqdmWarning: IProgress not found. Please update jupyter and ipywidgets. See https://ipywidgets.readthedocs.io/en/stable/user_install.html\n",
      "  from .autonotebook import tqdm as notebook_tqdm\n"
     ]
    }
   ],
   "source": [
    "from langchain_community.llms import HuggingFaceHub\n",
    "\n",
    "llm = HuggingFaceHub(\n",
    "    repo_id=\"HuggingFaceH4/zephyr-7b-beta\",\n",
    "    huggingfacehub_api_token=os.getenv(\"OPENAI_API_KEY\"),\n",
    "    task=\"text-generation\",\n",
    ")"
   ]
  },
  {
   "cell_type": "code",
   "execution_count": null,
   "metadata": {},
   "outputs": [],
   "source": []
  },
  {
   "cell_type": "code",
   "execution_count": null,
   "metadata": {},
   "outputs": [],
   "source": [
    "os.getenv(\"OPENAI_API_KEY\")"
   ]
  },
  {
   "cell_type": "markdown",
   "metadata": {},
   "source": [
    "#### Mistral API\n",
    "\n",
    "```Python\n",
    "OPENAI_API_KEY=your-mistral-api-key\n",
    "OPENAI_API_BASE=https://api.mistral.ai/v1\n",
    "OPENAI_MODEL_NAME=\"mistral-small\"\n",
    "```"
   ]
  },
  {
   "cell_type": "markdown",
   "metadata": {},
   "source": [
    "#### Cohere\n",
    "\n",
    "```Python\n",
    "from langchain_community.chat_models import ChatCohere\n",
    "# Initialize language model\n",
    "os.environ[\"COHERE_API_KEY\"] = \"your-cohere-api-key\"\n",
    "llm = ChatCohere()\n",
    "\n",
    "### you will pass \"llm\" to your agent function\n",
    "```"
   ]
  },
  {
   "cell_type": "markdown",
   "metadata": {},
   "source": [
    "### For using Llama locally with Ollama and more, checkout the crewAI documentation on [Connecting to any LLM](https://docs.crewai.com/how-to/LLM-Connections/)."
   ]
  },
  {
   "cell_type": "code",
   "execution_count": null,
   "metadata": {
    "height": 30
   },
   "outputs": [],
   "source": []
  },
  {
   "cell_type": "code",
   "execution_count": null,
   "metadata": {
    "height": 30
   },
   "outputs": [],
   "source": []
  },
  {
   "cell_type": "code",
   "execution_count": null,
   "metadata": {
    "height": 30
   },
   "outputs": [],
   "source": []
  }
 ],
 "metadata": {
  "colab": {
   "gpuType": "T4",
   "provenance": []
  },
  "kernelspec": {
   "display_name": "crewai-tutorial",
   "language": "python",
   "name": "python3"
  },
  "language_info": {
   "codemirror_mode": {
    "name": "ipython",
    "version": 3
   },
   "file_extension": ".py",
   "mimetype": "text/x-python",
   "name": "python",
   "nbconvert_exporter": "python",
   "pygments_lexer": "ipython3",
   "version": "3.10.16"
  }
 },
 "nbformat": 4,
 "nbformat_minor": 4
}
